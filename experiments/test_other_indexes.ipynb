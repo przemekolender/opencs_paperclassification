{
 "cells": [
  {
   "cell_type": "code",
   "execution_count": 1,
   "metadata": {},
   "outputs": [],
   "source": [
    "from source.env_setup.setup import connect_elasticsearch\n",
    "from source.es_index.query_index import find_n_best"
   ]
  },
  {
   "cell_type": "code",
   "execution_count": 2,
   "metadata": {},
   "outputs": [],
   "source": [
    "article_name = \"Big Data Analytics for Advanced Viticulture\""
   ]
  },
  {
   "cell_type": "code",
   "execution_count": 3,
   "metadata": {},
   "outputs": [],
   "source": [
    "query = {'query': {\n",
    "    \"match\": {\"prefLabel\" : article_name}\n",
    "    }\n",
    "}"
   ]
  },
  {
   "cell_type": "code",
   "execution_count": 4,
   "metadata": {},
   "outputs": [
    {
     "name": "stdout",
     "output_type": "stream",
     "text": [
      "Yay Connected\n",
      "[{'prefLabel': ['Big data'], 'score': 12.328186}, {'prefLabel': ['Data mining big data'], 'score': 10.494209}, {'prefLabel': ['Big data data analysis'], 'score': 10.494209}, {'prefLabel': ['Big spatial data'], 'score': 10.396174}, {'prefLabel': ['Geospatial big data'], 'score': 10.396174}, {'prefLabel': ['Big data management'], 'score': 10.396174}, {'prefLabel': ['Big data architecture'], 'score': 10.396174}, {'prefLabel': ['Big data processing'], 'score': 10.396174}, {'prefLabel': ['Multimedia big data'], 'score': 10.396174}, {'prefLabel': ['Big data security'], 'score': 10.396174}]\n"
     ]
    }
   ],
   "source": [
    "# \n",
    "\n",
    "with connect_elasticsearch() as es:\n",
    "    res = find_n_best(es, \"ontology_keyword\", query, n=10, label_colname='prefLabel')\n",
    "\n",
    "print(res)"
   ]
  },
  {
   "cell_type": "code",
   "execution_count": 5,
   "metadata": {},
   "outputs": [
    {
     "name": "stdout",
     "output_type": "stream",
     "text": [
      "Yay Connected\n",
      "[{'prefLabel': ['Big data'], 'score': 12.303456}, {'prefLabel': ['Big data data analysis'], 'score': 10.479523}, {'prefLabel': ['Data mining big data'], 'score': 10.476522}, {'prefLabel': ['Big data management'], 'score': 10.380472}, {'prefLabel': ['Big data processing'], 'score': 10.380472}, {'prefLabel': ['Big data security'], 'score': 10.380472}, {'prefLabel': ['Big data mining'], 'score': 10.380472}, {'prefLabel': ['Big data architecture'], 'score': 10.374781}, {'prefLabel': ['Big spatial data'], 'score': 10.374781}, {'prefLabel': ['Geospatial big data'], 'score': 10.374781}]\n"
     ]
    }
   ],
   "source": [
    "with connect_elasticsearch() as es:\n",
    "    res = find_n_best(es, \"ontology_analyzer\", query, n=10, label_colname='prefLabel')\n",
    "\n",
    "print(res)"
   ]
  },
  {
   "cell_type": "code",
   "execution_count": 6,
   "metadata": {},
   "outputs": [
    {
     "name": "stdout",
     "output_type": "stream",
     "text": [
      "Yay Connected\n",
      "[{'prefLabel': ['Big data'], 'score': 12.328186}, {'prefLabel': ['Data mining big data'], 'score': 10.494209}, {'prefLabel': ['Big data data analysis'], 'score': 10.494209}, {'prefLabel': ['Big data management'], 'score': 10.396174}, {'prefLabel': ['Big data architecture'], 'score': 10.396174}, {'prefLabel': ['Big data processing'], 'score': 10.396174}, {'prefLabel': ['Big spatial data'], 'score': 10.396174}, {'prefLabel': ['Geospatial big data'], 'score': 10.396174}, {'prefLabel': ['Multimedia big data'], 'score': 10.396174}, {'prefLabel': ['Big data security'], 'score': 10.396174}]\n"
     ]
    }
   ],
   "source": [
    "with connect_elasticsearch() as es:\n",
    "    res = find_n_best(es, \"ontology_similarity\", query, n=10, label_colname='prefLabel')\n",
    "\n",
    "print(res)"
   ]
  },
  {
   "cell_type": "code",
   "execution_count": 10,
   "metadata": {},
   "outputs": [
    {
     "name": "stdout",
     "output_type": "stream",
     "text": [
      "Yay Connected\n",
      "[{'prefLabel': ['Big data'], 'score': 12.328186}, {'prefLabel': ['Data mining big data'], 'score': 10.494209}, {'prefLabel': ['Big data data analysis'], 'score': 10.494209}, {'prefLabel': ['Big data security'], 'score': 10.396174}, {'prefLabel': ['Big data mining'], 'score': 10.396174}, {'prefLabel': ['Multimedia big data'], 'score': 10.396174}, {'prefLabel': ['Big data management'], 'score': 10.396174}, {'prefLabel': ['Big data architecture'], 'score': 10.396174}, {'prefLabel': ['Big data processing'], 'score': 10.396174}, {'prefLabel': ['Big spatial data'], 'score': 10.396174}]\n"
     ]
    }
   ],
   "source": [
    "with connect_elasticsearch() as es:\n",
    "    res = find_n_best(es, \"ontology_similarity_tfidf\", query, n=10, label_colname='prefLabel')\n",
    "\n",
    "print(res)"
   ]
  },
  {
   "cell_type": "code",
   "execution_count": 11,
   "metadata": {},
   "outputs": [],
   "source": [
    "query = {'query': {\n",
    "    \"more_like_this\": {\"fields\" : [\"prefLabel\", \"related\", \"broader\"],\n",
    "                       \"like\" : article_name,\n",
    "                       \"min_term_freq\" : 1,\n",
    "                       \"max_query_terms\" : 12}\n",
    "    }\n",
    "}\n",
    "\n"
   ]
  },
  {
   "cell_type": "code",
   "execution_count": 12,
   "metadata": {},
   "outputs": [
    {
     "name": "stdout",
     "output_type": "stream",
     "text": [
      "Yay Connected\n",
      "[{'prefLabel': ['Big data'], 'score': 12.328186}, {'prefLabel': ['Data mining big data'], 'score': 10.494209}, {'prefLabel': ['Big data data analysis'], 'score': 10.494209}, {'prefLabel': ['Big spatial data'], 'score': 10.396174}, {'prefLabel': ['Geospatial big data'], 'score': 10.396174}, {'prefLabel': ['Big data management'], 'score': 10.396174}, {'prefLabel': ['Big data architecture'], 'score': 10.396174}, {'prefLabel': ['Big data processing'], 'score': 10.396174}, {'prefLabel': ['Multimedia big data'], 'score': 10.396174}, {'prefLabel': ['Big data security'], 'score': 10.396174}]\n"
     ]
    }
   ],
   "source": [
    "with connect_elasticsearch() as es:\n",
    "    res = find_n_best(es, \"ontology_keyword\", query, n=10, label_colname='prefLabel')\n",
    "\n",
    "print(res)"
   ]
  },
  {
   "cell_type": "code",
   "execution_count": 13,
   "metadata": {},
   "outputs": [
    {
     "name": "stdout",
     "output_type": "stream",
     "text": [
      "Yay Connected\n",
      "[{'prefLabel': ['Analytics'], 'score': 17.804932}, {'prefLabel': ['Social analytics'], 'score': 16.535824}, {'prefLabel': ['Behavioral analytics'], 'score': 16.344572}, {'prefLabel': ['Cultural analytics'], 'score': 16.281782}, {'prefLabel': ['Business analytics'], 'score': 16.199722}, {'prefLabel': ['Prescriptive analytics'], 'score': 15.777849}, {'prefLabel': ['Predictive analytics'], 'score': 15.362409}, {'prefLabel': ['Learning analytics'], 'score': 15.110587}, {'prefLabel': ['Datafication'], 'score': 11.236959}, {'prefLabel': ['Power Analytics'], 'score': 10.345019}]\n"
     ]
    }
   ],
   "source": [
    "with connect_elasticsearch() as es:\n",
    "    res = find_n_best(es, \"ontology_analyzer\", query, n=10, label_colname='prefLabel')\n",
    "\n",
    "print(res)"
   ]
  },
  {
   "cell_type": "code",
   "execution_count": 14,
   "metadata": {},
   "outputs": [
    {
     "name": "stdout",
     "output_type": "stream",
     "text": [
      "Yay Connected\n",
      "[{'prefLabel': ['Big data'], 'score': 12.328186}, {'prefLabel': ['Data mining big data'], 'score': 10.494209}, {'prefLabel': ['Big data data analysis'], 'score': 10.494209}, {'prefLabel': ['Big data management'], 'score': 10.396174}, {'prefLabel': ['Big data architecture'], 'score': 10.396174}, {'prefLabel': ['Big data processing'], 'score': 10.396174}, {'prefLabel': ['Big spatial data'], 'score': 10.396174}, {'prefLabel': ['Geospatial big data'], 'score': 10.396174}, {'prefLabel': ['Multimedia big data'], 'score': 10.396174}, {'prefLabel': ['Big data security'], 'score': 10.396174}]\n"
     ]
    }
   ],
   "source": [
    "with connect_elasticsearch() as es:\n",
    "    res = find_n_best(es, \"ontology_similarity\", query, n=10, label_colname='prefLabel')\n",
    "\n",
    "print(res)"
   ]
  },
  {
   "cell_type": "code",
   "execution_count": 15,
   "metadata": {},
   "outputs": [
    {
     "name": "stdout",
     "output_type": "stream",
     "text": [
      "Yay Connected\n",
      "[{'prefLabel': ['Big data'], 'score': 12.328186}, {'prefLabel': ['Data mining big data'], 'score': 10.494209}, {'prefLabel': ['Big data data analysis'], 'score': 10.494209}, {'prefLabel': ['Big data security'], 'score': 10.396174}, {'prefLabel': ['Big data mining'], 'score': 10.396174}, {'prefLabel': ['Multimedia big data'], 'score': 10.396174}, {'prefLabel': ['Big data management'], 'score': 10.396174}, {'prefLabel': ['Big data architecture'], 'score': 10.396174}, {'prefLabel': ['Big data processing'], 'score': 10.396174}, {'prefLabel': ['Big spatial data'], 'score': 10.396174}]\n"
     ]
    }
   ],
   "source": [
    "with connect_elasticsearch() as es:\n",
    "    res = find_n_best(es, \"ontology_similarity_tfidf\", query, n=10, label_colname='prefLabel')\n",
    "\n",
    "print(res)"
   ]
  },
  {
   "cell_type": "code",
   "execution_count": 16,
   "metadata": {},
   "outputs": [],
   "source": [
    "article_name = \"Background Modelling using a Q-Tree Based Foreground Segmentation\"\n",
    "abstract = \"\"\"Background modelling is an empirical part in the procedure of foreground mining of idle and moving objects. The foreground object detection has become a challenging phenomenon due to intermittent objects, intensity variation, image artefact and dynamic background in the video analysis and video surveillance applications. In the video surveillances application, a large amount of data is getting processed by everyday basis. Thus it needs an efficient background modelling technique which could process those larger sets of data which promotes effective foreground detection. In this paper, we presented a renewed background modelling method for foreground segmentation. The main objective of the work is to perform the foreground extraction only in\n",
    "the intended region of interest using proposed Q-Tree algorithm. At most all the present techniques consider their updates to the pixels of the entire frame which may result in inefficient foreground detection with a quick update to slow moving objects. The proposed method contract these defect by extracting the foreground object by controlling the region of interest (the region only where the background subtraction is to be performed) and thereby reducing the false positive and false negative. The extensive experimental results and the evaluation parameters of the proposed approach with the state of art method were compared against the most recent background subtraction approaches. Moreover, we use challenge change detection dataset and the efficiency of our method is analyzed in different environmental conditions (indoor, outdoor) from the CDnet2014 dataset and additional real time videos. The experimental results were satisfactorily verified the strengths and weakness of proposed method against the existing state-of-the-art background modelling methods.\"\"\""
   ]
  },
  {
   "cell_type": "code",
   "execution_count": 17,
   "metadata": {},
   "outputs": [],
   "source": [
    "query = {\n",
    "  \"query\": {\n",
    "    \"dis_max\": {\n",
    "      \"queries\": [\n",
    "        {\n",
    "          \"multi_match\" : {\n",
    "          \"query\":      article_name,\n",
    "          \"type\":       \"most_fields\",\n",
    "          \"fields\":     [\"prefLabel^3\", \"related\", \"broader\"],\n",
    "          \"tie_breaker\": 0.5\n",
    "         }\n",
    "        },\n",
    "        {\n",
    "          \"multi_match\" : {\n",
    "          \"query\":      abstract,\n",
    "          \"type\":       \"most_fields\",\n",
    "          \"fields\":     [\"prefLabel^3\", \"related\", \"broader\"],\n",
    "          \"tie_breaker\": 0.5\n",
    "         }\n",
    "        }\n",
    "      ]\n",
    "    }\n",
    "  }\n",
    "}\n"
   ]
  },
  {
   "cell_type": "code",
   "execution_count": 18,
   "metadata": {},
   "outputs": [
    {
     "name": "stdout",
     "output_type": "stream",
     "text": [
      "Yay Connected\n",
      "[{'prefLabel': ['Programming in the large and programming in the small'], 'score': 539.5584}, {'prefLabel': ['The Intersect'], 'score': 526.4764}, {'prefLabel': ['The Internet'], 'score': 526.4764}, {'prefLabel': ['The Blob'], 'score': 526.4764}, {'prefLabel': ['The Vanguard Method'], 'score': 514.8341}, {'prefLabel': ['Law of the instrument'], 'score': 508.59784}, {'prefLabel': ['Wisdom of the crowd'], 'score': 508.59784}, {'prefLabel': ['March of the Machines'], 'score': 508.59784}, {'prefLabel': ['Outline of the Internet'], 'score': 508.59784}, {'prefLabel': ['Confusion of the inverse'], 'score': 508.59784}]\n"
     ]
    }
   ],
   "source": [
    "with connect_elasticsearch() as es:\n",
    "    res = find_n_best(es, \"ontology_keyword\", query, n=10, label_colname='prefLabel')\n",
    "\n",
    "print(res)"
   ]
  },
  {
   "cell_type": "code",
   "execution_count": 19,
   "metadata": {},
   "outputs": [
    {
     "name": "stdout",
     "output_type": "stream",
     "text": [
      "Yay Connected\n",
      "[{'prefLabel': ['The Blob'], 'score': 546.0161}, {'prefLabel': ['Wisdom of the crowd'], 'score': 541.7648}, {'prefLabel': ['Programming in the large and programming in the small'], 'score': 538.2361}, {'prefLabel': ['Law of the instrument'], 'score': 537.9766}, {'prefLabel': ['Confusion of the inverse'], 'score': 534.4223}, {'prefLabel': ['Poverty of the stimulus'], 'score': 527.40515}, {'prefLabel': ['March of the Machines'], 'score': 524.5929}, {'prefLabel': ['Tragedy of the anticommons'], 'score': 524.5929}, {'prefLabel': ['Motorways of the Sea'], 'score': 524.5929}, {'prefLabel': ['The Intersect'], 'score': 509.4751}]\n"
     ]
    }
   ],
   "source": [
    "with connect_elasticsearch() as es:\n",
    "    res = find_n_best(es, \"ontology_analyzer\", query, n=10, label_colname='prefLabel')\n",
    "\n",
    "print(res)"
   ]
  },
  {
   "cell_type": "code",
   "execution_count": 20,
   "metadata": {},
   "outputs": [
    {
     "name": "stdout",
     "output_type": "stream",
     "text": [
      "Yay Connected\n",
      "[{'prefLabel': ['Programming in the large and programming in the small'], 'score': 539.5584}, {'prefLabel': ['The Intersect'], 'score': 526.4764}, {'prefLabel': ['The Internet'], 'score': 526.4764}, {'prefLabel': ['The Blob'], 'score': 526.4764}, {'prefLabel': ['The Vanguard Method'], 'score': 514.8341}, {'prefLabel': ['Law of the instrument'], 'score': 508.59784}, {'prefLabel': ['Abundances of the elements'], 'score': 508.59784}, {'prefLabel': ['Tip of the day'], 'score': 508.59784}, {'prefLabel': ['Wisdom of the crowd'], 'score': 508.59784}, {'prefLabel': ['March of the Machines'], 'score': 508.59784}]\n"
     ]
    }
   ],
   "source": [
    "with connect_elasticsearch() as es:\n",
    "    res = find_n_best(es, \"ontology_similarity\", query, n=10, label_colname='prefLabel')\n",
    "\n",
    "print(res)"
   ]
  },
  {
   "cell_type": "code",
   "execution_count": 21,
   "metadata": {},
   "outputs": [
    {
     "name": "stdout",
     "output_type": "stream",
     "text": [
      "Yay Connected\n",
      "[{'prefLabel': ['Programming in the large and programming in the small'], 'score': 539.5584}, {'prefLabel': ['The Intersect'], 'score': 526.4764}, {'prefLabel': ['The Internet'], 'score': 526.4764}, {'prefLabel': ['The Blob'], 'score': 526.4764}, {'prefLabel': ['The Vanguard Method'], 'score': 514.8341}, {'prefLabel': ['Tragedy of the anticommons'], 'score': 508.59784}, {'prefLabel': ['Wisdom of the crowd'], 'score': 508.59784}, {'prefLabel': ['March of the Machines'], 'score': 508.59784}, {'prefLabel': ['Outline of the Internet'], 'score': 508.59784}, {'prefLabel': ['Confusion of the inverse'], 'score': 508.59784}]\n"
     ]
    }
   ],
   "source": [
    "with connect_elasticsearch() as es:\n",
    "    res = find_n_best(es, \"ontology_similarity_tfidf\", query, n=10, label_colname='prefLabel')\n",
    "\n",
    "print(res)"
   ]
  }
 ],
 "metadata": {
  "kernelspec": {
   "display_name": "sdp",
   "language": "python",
   "name": "python3"
  },
  "language_info": {
   "codemirror_mode": {
    "name": "ipython",
    "version": 3
   },
   "file_extension": ".py",
   "mimetype": "text/x-python",
   "name": "python",
   "nbconvert_exporter": "python",
   "pygments_lexer": "ipython3",
   "version": "3.10.8"
  },
  "orig_nbformat": 4,
  "vscode": {
   "interpreter": {
    "hash": "1b5960174be4c5aac43f8933afc24dcaceb58b272c5d28c20878db9a6a7564ec"
   }
  }
 },
 "nbformat": 4,
 "nbformat_minor": 2
}
