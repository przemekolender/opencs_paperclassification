{
 "cells": [
  {
   "attachments": {},
   "cell_type": "markdown",
   "metadata": {},
   "source": [
    "### In this notebook, we present how to query the ES index for paper classification.\n",
    "\n",
    "We assume that the ES is working and responding at the http://localhost:{`PORT`},\n",
    "and an index with name defined in `IDX_NAME` is already build."
   ]
  },
  {
   "cell_type": "code",
   "execution_count": 1,
   "metadata": {},
   "outputs": [],
   "source": [
    "from config import IDX_NAME, PORT\n",
    "from source.env_setup.setup import connect_elasticsearch"
   ]
  },
  {
   "attachments": {},
   "cell_type": "markdown",
   "metadata": {},
   "source": [
    "Check if the `IDX_NAME` is defined and print its structure."
   ]
  },
  {
   "cell_type": "code",
   "execution_count": 2,
   "metadata": {},
   "outputs": [
    {
     "name": "stdout",
     "output_type": "stream",
     "text": [
      "Yay Connected\n"
     ]
    }
   ],
   "source": [
    "with connect_elasticsearch() as es:\n",
    "    mappings = es.indices.get_mapping(index=IDX_NAME)"
   ]
  },
  {
   "cell_type": "code",
   "execution_count": 3,
   "metadata": {},
   "outputs": [
    {
     "name": "stdout",
     "output_type": "stream",
     "text": [
      "{\n",
      "    \"ontology_index\": {\n",
      "        \"mappings\": {\n",
      "            \"properties\": {\n",
      "                \"broader\": {\n",
      "                    \"type\": \"text\"\n",
      "                },\n",
      "                \"closeMatch\": {\n",
      "                    \"type\": \"text\"\n",
      "                },\n",
      "                \"name\": {\n",
      "                    \"type\": \"text\"\n",
      "                },\n",
      "                \"prefLabel\": {\n",
      "                    \"type\": \"text\"\n",
      "                },\n",
      "                \"related\": {\n",
      "                    \"type\": \"text\"\n",
      "                },\n",
      "                \"type\": {\n",
      "                    \"type\": \"text\"\n",
      "                }\n",
      "            }\n",
      "        }\n",
      "    }\n",
      "}\n"
     ]
    }
   ],
   "source": [
    "import json\n",
    "print(json.dumps(mappings, sort_keys=True, indent=4))"
   ]
  },
  {
   "cell_type": "markdown",
   "metadata": {},
   "source": [
    "Preparing data - sample articles:"
   ]
  },
  {
   "cell_type": "code",
   "execution_count": 4,
   "metadata": {},
   "outputs": [],
   "source": [
    "from source.data.sample_dataset import get_data\n",
    "\n",
    "\n",
    "articles = get_data()['data']"
   ]
  },
  {
   "cell_type": "code",
   "execution_count": 5,
   "metadata": {},
   "outputs": [
    {
     "name": "stdout",
     "output_type": "stream",
     "text": [
      "Number of articles: 4\n"
     ]
    }
   ],
   "source": [
    "print(f\"Number of articles: {len(articles)}\")"
   ]
  },
  {
   "attachments": {},
   "cell_type": "markdown",
   "metadata": {},
   "source": [
    "Sample article:"
   ]
  },
  {
   "cell_type": "code",
   "execution_count": 6,
   "metadata": {},
   "outputs": [
    {
     "data": {
      "text/plain": [
       "{'article_title': 'Brain Tumor Detection from MRI using Adaptive Thresholding and Histogram based Techniques',\n",
       " 'article_abstract': 'This paper depicts a computerized framework that can distinguish brain tumor and investigate the diverse highlights of the tumor. Brain tumor segmentation means to isolated the unique tumor tissues, for example, active cells, edema and necrotic center from ordinary mind tissues of WM, GM, and CSF. However, manual segmentation in magnetic resonance data is a timeconsuming task. We present a method of automatic tumor segmentation in magnetic resonance images which consists of several steps. The recommended framework is helped by image processing based technique that gives improved precision rate of the cerebrum tumor location along with the computation of tumor measure. In this paper, the location of brain tumor from MRI is recognized utilizing adaptive thresholding with a level set and a morphological procedure with histogram. Automatic brain tumor stage is performed by using ensemble classification. Such phase classifies brain images into tumor and non-tumors using Feed Forwarded Artificial neural network based classifier. For test investigation, continuous MRI images gathered from 200 people are utilized. The rate of fruitful discovery through the proposed procedure is 97.32 percentage accurate.'}"
      ]
     },
     "execution_count": 6,
     "metadata": {},
     "output_type": "execute_result"
    }
   ],
   "source": [
    "a0 = articles[0]\n",
    "a0"
   ]
  },
  {
   "attachments": {},
   "cell_type": "markdown",
   "metadata": {},
   "source": [
    "Let's see how querying the index works! \n",
    "\n",
    "A comprehensive guide for the ES queries can be found at: https://www.elastic.co/guide/en/elasticsearch/reference/current/query-dsl-multi-match-query.html"
   ]
  },
  {
   "cell_type": "code",
   "execution_count": 7,
   "metadata": {},
   "outputs": [],
   "source": [
    "from source.es_index.query_index import find_n_best\n",
    "from source.result_saving.result_vocabulary import save_result_vocabulary"
   ]
  },
  {
   "cell_type": "markdown",
   "metadata": {},
   "source": [
    "First, we will feed only the tile."
   ]
  },
  {
   "cell_type": "code",
   "execution_count": 10,
   "metadata": {},
   "outputs": [
    {
     "name": "stdout",
     "output_type": "stream",
     "text": [
      "Yay Connected\n",
      "[{'prefLabel': ['Balanced histogram thresholding'], 'score': 14.568794}, {'prefLabel': ['Tumor detection'], 'score': 14.40885}, {'prefLabel': ['Brain tumor segmentation'], 'score': 14.073767}, {'prefLabel': ['Adaptive histogram equalization'], 'score': 12.219425}, {'prefLabel': ['Thresholding'], 'score': 11.079433}, {'prefLabel': ['Mri segmentation'], 'score': 10.983144}, {'prefLabel': ['Histogram'], 'score': 10.140241}, {'prefLabel': ['Blocking techniques'], 'score': 9.020447}, {'prefLabel': ['Recovery techniques'], 'score': 9.020447}, {'prefLabel': ['Visualisation techniques'], 'score': 9.020447}]\n"
     ]
    }
   ],
   "source": [
    "query = {'query': {\n",
    "    \"match\": {\"prefLabel\" : a0['article_title']}\n",
    "    }\n",
    "}\n",
    "\n",
    "with connect_elasticsearch() as es:\n",
    "    res = find_n_best(es, IDX_NAME, query, n=10, label_colname='prefLabel')\n",
    "\n",
    "print(res)"
   ]
  },
  {
   "attachments": {},
   "cell_type": "markdown",
   "metadata": {},
   "source": [
    "We can try `multi_match`"
   ]
  },
  {
   "cell_type": "code",
   "execution_count": 8,
   "metadata": {},
   "outputs": [
    {
     "name": "stdout",
     "output_type": "stream",
     "text": [
      "Yay Connected\n",
      "[{'prefLabel': ['Balanced histogram thresholding'], 'score': 43.706383}, {'prefLabel': ['Tumor detection'], 'score': 43.226555}, {'prefLabel': ['Brain tumor segmentation'], 'score': 42.221302}, {'prefLabel': ['Adaptive histogram equalization'], 'score': 36.658276}, {'prefLabel': ['Thresholding'], 'score': 33.2383}, {'prefLabel': ['Mri segmentation'], 'score': 32.949432}, {'prefLabel': ['Histogram'], 'score': 30.420723}, {'prefLabel': ['Blocking techniques'], 'score': 27.061342}, {'prefLabel': ['Recovery techniques'], 'score': 27.061342}, {'prefLabel': ['Visualisation techniques'], 'score': 27.061342}]\n"
     ]
    }
   ],
   "source": [
    "query = {\n",
    "  \"query\": {\n",
    "    \"multi_match\" : {\n",
    "      \"query\":    a0['article_title'], \n",
    "      \"fields\" : [\"prefLabel^3\", \"related\", \"broader\"]\n",
    "    }\n",
    "  }\n",
    "}\n",
    "\n",
    "with connect_elasticsearch() as es:\n",
    "    res = find_n_best(es, IDX_NAME, query, n=10, label_colname='prefLabel')\n",
    "\n",
    "print(res)"
   ]
  },
  {
   "cell_type": "code",
   "execution_count": 9,
   "metadata": {},
   "outputs": [
    {
     "name": "stdout",
     "output_type": "stream",
     "text": [
      "@prefix schema: <http://schema.org/> .\n",
      "@prefix xsd: <http://www.w3.org/2001/XMLSchema#> .\n",
      "\n",
      "<http://example.org/result/90a9daef-69c6-413a-ab2f-0762a89b4f5f> a schema:SearchAction ;\n",
      "    schema:endTime \"2023-01-11\"^^xsd:date ;\n",
      "    schema:query \"{'query': {'multi_match': {'query': 'Brain Tumor Detection from MRI using Adaptive Thresholding and Histogram based Techniques', 'fields': ['prefLabel^3', 'related', 'broader']}}}\" ;\n",
      "    schema:result \"[{'prefLabel': ['Balanced histogram thresholding'], 'score': 43.706383}, {'prefLabel': ['Tumor detection'], 'score': 43.226555}, {'prefLabel': ['Brain tumor segmentation'], 'score': 42.221302}, {'prefLabel': ['Adaptive histogram equalization'], 'score': 36.658276}, {'prefLabel': ['Thresholding'], 'score': 33.2383}, {'prefLabel': ['Mri segmentation'], 'score': 32.949432}, {'prefLabel': ['Histogram'], 'score': 30.420723}, {'prefLabel': ['Blocking techniques'], 'score': 27.061342}, {'prefLabel': ['Recovery techniques'], 'score': 27.061342}, {'prefLabel': ['Visualisation techniques'], 'score': 27.061342}]\" .\n",
      "\n",
      "\n"
     ]
    }
   ],
   "source": [
    "print(save_result_vocabulary(query, res))"
   ]
  },
  {
   "cell_type": "code",
   "execution_count": 12,
   "metadata": {},
   "outputs": [
    {
     "name": "stdout",
     "output_type": "stream",
     "text": [
      "Yay Connected\n",
      "[{'prefLabel': ['Balanced histogram thresholding'], 'score': 99.951416}, {'prefLabel': ['Adaptive histogram equalization'], 'score': 87.61258}, {'prefLabel': ['Histogram matching'], 'score': 66.12162}, {'prefLabel': ['Iterative thresholding'], 'score': 63.40815}, {'prefLabel': ['Thresholding algorithm'], 'score': 63.40815}, {'prefLabel': ['Recurrent Gastrointestinal Stromal Tumor'], 'score': 58.001457}, {'prefLabel': ['Tumor detection'], 'score': 57.6354}, {'prefLabel': ['China brain'], 'score': 57.433777}, {'prefLabel': ['Brain tumor segmentation'], 'score': 56.295067}, {'prefLabel': ['Thresholding'], 'score': 54.596306}]\n"
     ]
    }
   ],
   "source": [
    "query = {\n",
    "  \"query\": {\n",
    "    \"multi_match\" : {\n",
    "      \"query\":      a0['article_title'],\n",
    "      \"type\":       \"bool_prefix\",\n",
    "      \"fields\":     [\"prefLabel^4\", \"related\", \"broader^2\"]\n",
    "    }\n",
    "  }\n",
    "}\n",
    "\n",
    "with connect_elasticsearch() as es:\n",
    "    res = find_n_best(es, IDX_NAME, query, n=10, label_colname='prefLabel')\n",
    "\n",
    "print(res)"
   ]
  },
  {
   "attachments": {},
   "cell_type": "markdown",
   "metadata": {},
   "source": [
    "Now, let's add the abstract as well."
   ]
  },
  {
   "cell_type": "code",
   "execution_count": 9,
   "metadata": {},
   "outputs": [
    {
     "name": "stdout",
     "output_type": "stream",
     "text": [
      "Yay Connected\n",
      "[{'prefLabel': ['Brain tumor segmentation'], 'score': 244.49348}, {'prefLabel': ['Liver tumor segmentation'], 'score': 234.81906}, {'prefLabel': ['Tumor segmentation'], 'score': 207.3719}, {'prefLabel': ['Stromal Neoplasm'], 'score': 195.96886}, {'prefLabel': ['Small Intestinal Gastrointestinal Stromal Tumor'], 'score': 195.96886}, {'prefLabel': ['Malignant Gastrointestinal Stromal Tumor'], 'score': 195.96886}, {'prefLabel': ['Gastric Gastrointestinal Stromal Tumor'], 'score': 195.96886}, {'prefLabel': ['Esophageal GIST'], 'score': 195.96886}, {'prefLabel': ['Recurrent Gastrointestinal Stromal Tumor'], 'score': 195.96886}, {'prefLabel': ['Duodenal submucosal tumor'], 'score': 195.96886}]\n"
     ]
    }
   ],
   "source": [
    "query = {\n",
    "  \"query\": {\n",
    "    \"dis_max\": {\n",
    "      \"queries\": [\n",
    "        {\n",
    "          \"multi_match\" : {\n",
    "          \"query\":    a0['article_title'], \n",
    "          \"fields\" : [\"prefLabel^3\", \"related\", \"broader\"]\n",
    "    }\n",
    "        },\n",
    "        {\n",
    "          \"multi_match\" : {\n",
    "          \"query\":    a0['article_abstract'], \n",
    "          \"fields\" : [\"prefLabel^2\", \"related\", \"broader^2\"]\n",
    "          }\n",
    "        }\n",
    "      ]\n",
    "    }\n",
    "  }\n",
    "}\n",
    "\n",
    "with connect_elasticsearch() as es:\n",
    "    res = find_n_best(es, IDX_NAME, query, n=10, label_colname='prefLabel')\n",
    "\n",
    "print(res)"
   ]
  },
  {
   "attachments": {},
   "cell_type": "markdown",
   "metadata": {},
   "source": [
    "We can try different parameters in the Elastic Search, e.g., `best_fields` query type."
   ]
  },
  {
   "cell_type": "code",
   "execution_count": 33,
   "metadata": {},
   "outputs": [
    {
     "name": "stdout",
     "output_type": "stream",
     "text": [
      "Yay Connected\n",
      "[{'prefLabel': ['Brain tumor segmentation'], 'score': 374.2478}, {'prefLabel': ['Tumor segmentation'], 'score': 318.56543}, {'prefLabel': ['Liver tumor segmentation'], 'score': 297.5333}, {'prefLabel': ['Recurrent Gastrointestinal Stromal Tumor'], 'score': 255.27765}, {'prefLabel': ['Tumor detection'], 'score': 254.29216}, {'prefLabel': ['Tumor region'], 'score': 254.29216}, {'prefLabel': ['Nerve tumor'], 'score': 253.00272}, {'prefLabel': ['Stromal tumor'], 'score': 253.00272}, {'prefLabel': ['Is-a'], 'score': 246.47375}, {'prefLabel': ['Duodenal submucosal tumor'], 'score': 242.74872}]\n"
     ]
    }
   ],
   "source": [
    "query = {\n",
    "  \"query\": {\n",
    "    \"dis_max\": {\n",
    "      \"queries\": [\n",
    "        {\n",
    "          \"multi_match\" : {\n",
    "          \"query\":      a0['article_title'],\n",
    "          \"type\":       \"best_fields\",\n",
    "          \"fields\":     [\"prefLabel^3\", \"related\", \"broader\"],\n",
    "          \"tie_breaker\": 0.3\n",
    "         }\n",
    "        },\n",
    "        {\n",
    "          \"multi_match\" : {\n",
    "          \"query\":      a0['article_abstract'],\n",
    "          \"type\":       \"best_fields\",\n",
    "          \"fields\":     [\"prefLabel^3\", \"related\", \"broader\"],\n",
    "          \"tie_breaker\": 0.3\n",
    "         }\n",
    "        }\n",
    "      ]\n",
    "    }\n",
    "  }\n",
    "}\n",
    "\n",
    "with connect_elasticsearch() as es:\n",
    "    query_res = find_n_best(es, IDX_NAME, query, n=10, label_colname='prefLabel')\n",
    "\n",
    "print(query_res)"
   ]
  },
  {
   "cell_type": "code",
   "execution_count": 13,
   "metadata": {},
   "outputs": [
    {
     "name": "stdout",
     "output_type": "stream",
     "text": [
      "Yay Connected\n",
      "[{'prefLabel': ['Brain tumor segmentation'], 'score': 379.25287}, {'prefLabel': ['Tumor segmentation'], 'score': 323.5705}, {'prefLabel': ['Liver tumor segmentation'], 'score': 321.0152}, {'prefLabel': ['Recurrent Gastrointestinal Stromal Tumor'], 'score': 302.49762}, {'prefLabel': ['Duodenal submucosal tumor'], 'score': 262.3456}, {'prefLabel': ['Gastrointestinal stroma tumor'], 'score': 262.3456}, {'prefLabel': ['Tumor detection'], 'score': 255.1518}, {'prefLabel': ['Tumor region'], 'score': 255.1518}, {'prefLabel': ['Is-a'], 'score': 254.2988}, {'prefLabel': ['Nerve tumor'], 'score': 253.00272}]\n"
     ]
    }
   ],
   "source": [
    "query = {\n",
    "  \"query\": {\n",
    "    \"dis_max\": {\n",
    "      \"queries\": [\n",
    "        {\n",
    "          \"multi_match\" : {\n",
    "          \"query\":      a0['article_title'],\n",
    "          \"type\":       \"most_fields\",\n",
    "          \"fields\":     [\"prefLabel^3\", \"related\", \"broader\"],\n",
    "          \"tie_breaker\": 0.5\n",
    "         }\n",
    "        },\n",
    "        {\n",
    "          \"multi_match\" : {\n",
    "          \"query\":      a0['article_abstract'],\n",
    "          \"type\":       \"most_fields\",\n",
    "          \"fields\":     [\"prefLabel^3\", \"related\", \"broader\"],\n",
    "          \"tie_breaker\": 0.5\n",
    "         }\n",
    "        }\n",
    "      ]\n",
    "    }\n",
    "  }\n",
    "}\n",
    "\n",
    "with connect_elasticsearch() as es:\n",
    "    res = find_n_best(es, IDX_NAME, query, n=10, label_colname='prefLabel')\n",
    "\n",
    "print(res)"
   ]
  }
 ],
 "metadata": {
  "kernelspec": {
   "display_name": "opencs_paperclassification",
   "language": "python",
   "name": "python3"
  },
  "language_info": {
   "codemirror_mode": {
    "name": "ipython",
    "version": 3
   },
   "file_extension": ".py",
   "mimetype": "text/x-python",
   "name": "python",
   "nbconvert_exporter": "python",
   "pygments_lexer": "ipython3",
   "version": "3.10.8"
  },
  "orig_nbformat": 4,
  "vscode": {
   "interpreter": {
    "hash": "e19e9f2b36856563ab2bd45ec684e0202f5df76d9a6b6b3b9ea70b7e0077d416"
   }
  }
 },
 "nbformat": 4,
 "nbformat_minor": 2
}
