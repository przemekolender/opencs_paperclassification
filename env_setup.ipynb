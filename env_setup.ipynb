{
 "cells": [
  {
   "attachments": {},
   "cell_type": "markdown",
   "metadata": {},
   "source": [
    "# Installing required libraries in the case they are not installed"
   ]
  },
  {
   "cell_type": "code",
   "execution_count": null,
   "metadata": {},
   "outputs": [],
   "source": [
    "#!pip install pypiwin32"
   ]
  },
  {
   "cell_type": "code",
   "execution_count": null,
   "metadata": {},
   "outputs": [],
   "source": [
    "#!pip install docker"
   ]
  },
  {
   "cell_type": "code",
   "execution_count": null,
   "metadata": {},
   "outputs": [],
   "source": [
    "#from config import ENV_PATH\n",
    "\n",
    "#!python {ENV_PATH}\\Scripts\\pywin32_postinstall.py -install"
   ]
  },
  {
   "attachments": {},
   "cell_type": "markdown",
   "metadata": {},
   "source": [
    "Instruction for installing Docker for Windows:\n",
    "\n",
    "\n",
    "1. Download and install: https://desktop.docker.com/win/main/amd64/Docker%20Desktop%20Installer.exe\n",
    "\n",
    "2. Make sure the engine starts correctly (it may be necessary to install Windows Subsystem for Linux): https://learn.microsoft.com/pl-pl/windows/wsl/install-manual#step-4---download-the-linux-kernel-update-package\n",
    "\n",
    "3. Restart the computer\n",
    "\n",
    "4. Docker engine should be running "
   ]
  },
  {
   "attachments": {},
   "cell_type": "markdown",
   "metadata": {},
   "source": [
    "# Starting docker containers\n",
    "\n",
    "This step assumes that the local Docker engine is running!"
   ]
  },
  {
   "cell_type": "code",
   "execution_count": 1,
   "metadata": {},
   "outputs": [],
   "source": [
    "from source.env_setup.setup import start_docker_containers, remove_docker_containers"
   ]
  },
  {
   "attachments": {},
   "cell_type": "markdown",
   "metadata": {},
   "source": [
    "### Start docker containers with Elastic Search and Kibana"
   ]
  },
  {
   "attachments": {},
   "cell_type": "markdown",
   "metadata": {},
   "source": [
    "If you want to choose different container images or set different ports change corresponding constants in the `config.py` file."
   ]
  },
  {
   "cell_type": "code",
   "execution_count": 2,
   "metadata": {},
   "outputs": [
    {
     "name": "stdout",
     "output_type": "stream",
     "text": [
      "<Image: 'docker.elastic.co/elasticsearch/elasticsearch:7.12.1'>\n",
      "<Image: 'docker.elastic.co/kibana/kibana:7.12.1'>\n"
     ]
    }
   ],
   "source": [
    "containers = start_docker_containers()"
   ]
  },
  {
   "attachments": {},
   "cell_type": "markdown",
   "metadata": {},
   "source": [
    "The containers usually need some warm-up time... Check if the ES is responding at localhost after a while."
   ]
  },
  {
   "attachments": {},
   "cell_type": "markdown",
   "metadata": {},
   "source": [
    "### Stop and remove docker containers after finishing the work with Elastic Search\n",
    "(or do it manually) "
   ]
  },
  {
   "cell_type": "code",
   "execution_count": 3,
   "metadata": {},
   "outputs": [],
   "source": [
    "remove_docker_containers(containers)"
   ]
  },
  {
   "cell_type": "code",
   "execution_count": null,
   "metadata": {},
   "outputs": [],
   "source": []
  }
 ],
 "metadata": {
  "kernelspec": {
   "display_name": "opencs_paperclassification",
   "language": "python",
   "name": "python3"
  },
  "language_info": {
   "codemirror_mode": {
    "name": "ipython",
    "version": 3
   },
   "file_extension": ".py",
   "mimetype": "text/x-python",
   "name": "python",
   "nbconvert_exporter": "python",
   "pygments_lexer": "ipython3",
   "version": "3.10.8"
  },
  "orig_nbformat": 4,
  "vscode": {
   "interpreter": {
    "hash": "e19e9f2b36856563ab2bd45ec684e0202f5df76d9a6b6b3b9ea70b7e0077d416"
   }
  }
 },
 "nbformat": 4,
 "nbformat_minor": 2
}
